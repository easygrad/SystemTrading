{
 "cells": [
  {
   "cell_type": "code",
   "execution_count": null,
   "id": "110f8067",
   "metadata": {},
   "outputs": [],
   "source": [
    "# 전략 연습: 일봉 데이터를 이용한 기술적 분석 전략 수립\n",
    "# 필요한 것 1. 상장사 일일 주가데이터 / 2. MACD, RSI, Stochastic 계산 / 3-1. 경험적 전략 검증 / 3-2. 머신러닝을 활용한 전략 수립\n",
    "\n",
    "# 1-(1). 상장사 일일 주가데이터 가져오기\n",
    "\n",
    "from pykiwoom.kiwoom import *\n",
    "import datetime\n",
    "import time\n",
    "import pandas as pd\n",
    "import os\n",
    "\n",
    "kiwoom = Kiwoom()\n",
    "kiwoom. CommConnect() # 로그인 창 띄우기\n",
    "\n",
    "kospi = kiwoom.GetCodeListByMarket('0')\n",
    "kosdaq = kiwoom.GetCodeListByMarket('10')\n",
    "ketf = kiwoom.GetCodeListByMarket('8')\n",
    "krx_codes = kospi + kosdaq + ketf\n",
    "\n",
    "now = datetime.datetime.now()\n",
    "today = now.strftime(\"%Y%m%d\")\n",
    "\n",
    "for i, code in enumerate(codes):\n",
    "    print(f\"{i}/{len(codes)} {code}\")\n",
    "    df = kiwoom.block_request(\"opt10081\", # 주식일봉차트조회요청\n",
    "                             )\n",
    "    \n",
    "# 지금까지 pykiwoom 모듈을 활용했음... open api를 활용하기 위해 다시 공부!\n",
    "# 유튜브 프로그램동산"
   ]
  }
 ],
 "metadata": {
  "kernelspec": {
   "display_name": "testt",
   "language": "python",
   "name": "py38_32"
  },
  "language_info": {
   "codemirror_mode": {
    "name": "ipython",
    "version": 3
   },
   "file_extension": ".py",
   "mimetype": "text/x-python",
   "name": "python",
   "nbconvert_exporter": "python",
   "pygments_lexer": "ipython3",
   "version": "3.8.8"
  }
 },
 "nbformat": 4,
 "nbformat_minor": 5
}
